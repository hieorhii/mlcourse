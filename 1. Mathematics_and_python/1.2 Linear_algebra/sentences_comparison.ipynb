{
 "cells": [
  {
   "cell_type": "code",
   "execution_count": 1,
   "id": "dedb0e8d-cf19-4cff-a389-e3a78da506c8",
   "metadata": {},
   "outputs": [],
   "source": [
    "import re\n",
    "import numpy as np \n",
    "import scipy.spatial as sp"
   ]
  },
  {
   "cell_type": "code",
   "execution_count": 2,
   "id": "04d2d5fd-8e2e-4bb0-8cf6-7bbeeb758c9e",
   "metadata": {},
   "outputs": [
    {
     "name": "stdout",
     "output_type": "stream",
     "text": [
      "[['in', 'comparison', 'to', 'dogs', 'cats', 'have', 'not', 'undergone', 'major', 'changes', 'during', 'the', 'domestication', 'process'], ['as', 'cat', 'simply', 'catenates', 'streams', 'of', 'bytes', 'it', 'can', 'be', 'also', 'used', 'to', 'concatenate', 'binary', 'files', 'where', 'it', 'will', 'just', 'concatenate', 'sequence', 'of', 'bytes'], ['a', 'common', 'interactive', 'use', 'of', 'cat', 'for', 'a', 'single', 'file', 'is', 'to', 'output', 'the', 'content', 'of', 'a', 'file', 'to', 'standard', 'output'], ['cats', 'can', 'hear', 'sounds', 'too', 'faint', 'or', 'too', 'high', 'in', 'frequency', 'for', 'human', 'ears', 'such', 'as', 'those', 'made', 'by', 'mice', 'and', 'other', 'small', 'animals'], ['in', 'one', 'people', 'deliberately', 'tamed', 'cats', 'in', 'a', 'process', 'of', 'artificial', 'selection', 'as', 'they', 'were', 'useful', 'predators', 'of', 'vermin'], ['the', 'domesticated', 'cat', 'and', 'its', 'closest', 'wild', 'ancestor', 'are', 'both', 'diploid', 'organisms', 'that', 'possess', 'chromosomes', 'and', 'roughly', 'genes'], ['domestic', 'cats', 'are', 'similar', 'in', 'size', 'to', 'the', 'other', 'members', 'of', 'the', 'genus', 'felis', 'typically', 'weighing', 'between', 'and', 'kg', 'and', 'lb'], ['however', 'if', 'the', 'output', 'is', 'piped', 'or', 'redirected', 'cat', 'is', 'unnecessary'], ['cat', 'with', 'one', 'named', 'file', 'is', 'safer', 'where', 'human', 'error', 'is', 'a', 'concern', 'one', 'wrong', 'use', 'of', 'the', 'default', 'redirection', 'symbol', 'instead', 'of', 'often', 'adjacent', 'on', 'keyboards', 'may', 'permanently', 'delete', 'the', 'file', 'you', 'were', 'just', 'needing', 'to', 'read'], ['in', 'terms', 'of', 'legibility', 'a', 'sequence', 'of', 'commands', 'starting', 'with', 'cat', 'and', 'connected', 'by', 'pipes', 'has', 'a', 'clear', 'left', 'to', 'right', 'flow', 'of', 'information'], ['cat', 'command', 'is', 'one', 'of', 'the', 'basic', 'commands', 'that', 'you', 'learned', 'when', 'you', 'started', 'in', 'the', 'unix', 'linux', 'world'], ['using', 'cat', 'command', 'the', 'lines', 'received', 'from', 'stdin', 'can', 'be', 'redirected', 'to', 'a', 'new', 'file', 'using', 'redirection', 'symbols'], ['when', 'you', 'type', 'simply', 'cat', 'command', 'without', 'any', 'arguments', 'it', 'just', 'receives', 'the', 'stdin', 'content', 'and', 'displays', 'it', 'in', 'the', 'stdout'], ['leopard', 'was', 'released', 'on', 'october', 'as', 'the', 'successor', 'of', 'tiger', 'version', 'and', 'is', 'available', 'in', 'two', 'editions'], ['according', 'to', 'apple', 'leopard', 'contains', 'over', 'changes', 'and', 'enhancements', 'over', 'its', 'predecessor', 'mac', 'os', 'x', 'tiger'], ['as', 'of', 'mid', 'some', 'apple', 'computers', 'have', 'firmware', 'factory', 'installed', 'which', 'will', 'no', 'longer', 'allow', 'installation', 'of', 'mac', 'os', 'x', 'leopard'], ['since', 'apple', 'moved', 'to', 'using', 'intel', 'processors', 'in', 'their', 'computers', 'the', 'osx', 'community', 'has', 'developed', 'and', 'now', 'also', 'allows', 'mac', 'os', 'x', 'tiger', 'and', 'later', 'releases', 'to', 'be', 'installed', 'on', 'non', 'apple', 'x', 'based', 'computers'], ['os', 'x', 'mountain', 'lion', 'was', 'released', 'on', 'july', 'for', 'purchase', 'and', 'download', 'through', 'apple', 's', 'mac', 'app', 'store', 'as', 'part', 'of', 'a', 'switch', 'to', 'releasing', 'os', 'x', 'versions', 'online', 'and', 'every', 'year'], ['apple', 'has', 'released', 'a', 'small', 'patch', 'for', 'the', 'three', 'most', 'recent', 'versions', 'of', 'safari', 'running', 'on', 'os', 'x', 'yosemite', 'mavericks', 'and', 'mountain', 'lion'], ['the', 'mountain', 'lion', 'release', 'marks', 'the', 'second', 'time', 'apple', 'has', 'offered', 'an', 'incremental', 'upgrade', 'rather', 'than', 'releasing', 'a', 'new', 'cat', 'entirely'], ['mac', 'os', 'x', 'mountain', 'lion', 'installs', 'in', 'place', 'so', 'you', 'won', 't', 'need', 'to', 'create', 'a', 'separate', 'disk', 'or', 'run', 'the', 'installation', 'off', 'an', 'external', 'drive'], ['the', 'fifth', 'major', 'update', 'to', 'mac', 'os', 'x', 'leopard', 'contains', 'such', 'a', 'mountain', 'of', 'features', 'more', 'than', 'by', 'apple', 's', 'count']]\n"
     ]
    }
   ],
   "source": [
    "with open('sentences.txt', 'r') as file:\n",
    "    sentences = np.array(file.readlines())\n",
    "    sentences = map(lambda sentence: sentence.lower(), sentences)\n",
    "    words = list(list(filter(None, re.split('[^a-z]', sentence))) for sentence in sentences)\n",
    "    print(words)"
   ]
  },
  {
   "cell_type": "code",
   "execution_count": 3,
   "id": "3852f476-d77f-413a-83f5-96111d647141",
   "metadata": {},
   "outputs": [
    {
     "name": "stdout",
     "output_type": "stream",
     "text": [
      "254\n"
     ]
    }
   ],
   "source": [
    "unique = set()\n",
    "for sentence in words:\n",
    "    for word in sentence:\n",
    "        unique.add(word)\n",
    "unique_dict = dict()\n",
    "\n",
    "i = 0\n",
    "\n",
    "for word in unique:\n",
    "    unique_dict[word] = i\n",
    "    i += 1\n",
    "print(len(unique_dict))"
   ]
  },
  {
   "cell_type": "code",
   "execution_count": 4,
   "id": "2ff21d10-42ef-4ff3-8456-81ce373d40cc",
   "metadata": {},
   "outputs": [],
   "source": [
    "words_matrix = np.zeros((len(words), len(unique)), dtype = int)\n",
    "i = 0\n",
    "for sentence in words:\n",
    "    for word in sentence:\n",
    "        if word in unique_dict:\n",
    "            j = unique_dict[word]\n",
    "            words_matrix[i,j] += 1\n",
    "    i += 1"
   ]
  },
  {
   "cell_type": "code",
   "execution_count": 5,
   "id": "ba31bb0b-eb1b-486f-af70-a08a74c1e001",
   "metadata": {},
   "outputs": [
    {
     "name": "stdout",
     "output_type": "stream",
     "text": [
      "[[ 0.          0.        ]\n",
      " [ 1.          0.95275444]\n",
      " [ 2.          0.86447381]\n",
      " [ 3.          0.89517152]\n",
      " [ 4.          0.77708871]\n",
      " [ 5.          0.94023857]\n",
      " [ 6.          0.73273876]\n",
      " [ 7.          0.92587507]\n",
      " [ 8.          0.88427249]\n",
      " [ 9.          0.90550888]\n",
      " [10.          0.83281654]\n",
      " [11.          0.88047714]\n",
      " [12.          0.83964325]\n",
      " [13.          0.87035926]\n",
      " [14.          0.87401184]\n",
      " [15.          0.94427218]\n",
      " [16.          0.84063619]\n",
      " [17.          0.9566445 ]\n",
      " [18.          0.94427218]\n",
      " [19.          0.88854436]\n",
      " [20.          0.84275727]\n",
      " [21.          0.82503645]]\n"
     ]
    }
   ],
   "source": [
    "first_sentence = words_matrix[0]\n",
    "distances = np.zeros((len(words), 2))\n",
    "for i in range(0, len(words)):\n",
    "    distance = sp.distance.cosine(first_sentence, words_matrix[i])\n",
    "    distances[i] = [i, distance]\n",
    "print(distances)"
   ]
  },
  {
   "cell_type": "code",
   "execution_count": 6,
   "id": "c9e91ae8-9a0d-47dd-8365-0354eb2e07da",
   "metadata": {},
   "outputs": [],
   "source": [
    "distances = distances[distances[:,1].argsort()]"
   ]
  },
  {
   "cell_type": "code",
   "execution_count": 7,
   "id": "35d84e3e-7cfe-4a2a-a9d2-e01442e028f4",
   "metadata": {},
   "outputs": [
    {
     "name": "stdout",
     "output_type": "stream",
     "text": [
      "[[ 0.          0.        ]\n",
      " [ 6.          0.73273876]\n",
      " [ 4.          0.77708871]\n",
      " [21.          0.82503645]\n",
      " [10.          0.83281654]\n",
      " [12.          0.83964325]\n",
      " [16.          0.84063619]\n",
      " [20.          0.84275727]\n",
      " [ 2.          0.86447381]\n",
      " [13.          0.87035926]\n",
      " [14.          0.87401184]\n",
      " [11.          0.88047714]\n",
      " [ 8.          0.88427249]\n",
      " [19.          0.88854436]\n",
      " [ 3.          0.89517152]\n",
      " [ 9.          0.90550888]\n",
      " [ 7.          0.92587507]\n",
      " [ 5.          0.94023857]\n",
      " [18.          0.94427218]\n",
      " [15.          0.94427218]\n",
      " [ 1.          0.95275444]\n",
      " [17.          0.9566445 ]]\n"
     ]
    }
   ],
   "source": [
    "print(distances)"
   ]
  }
 ],
 "metadata": {
  "kernelspec": {
   "display_name": "Python 3 (ipykernel)",
   "language": "python",
   "name": "python3"
  },
  "language_info": {
   "codemirror_mode": {
    "name": "ipython",
    "version": 3
   },
   "file_extension": ".py",
   "mimetype": "text/x-python",
   "name": "python",
   "nbconvert_exporter": "python",
   "pygments_lexer": "ipython3",
   "version": "3.12.7"
  }
 },
 "nbformat": 4,
 "nbformat_minor": 5
}
